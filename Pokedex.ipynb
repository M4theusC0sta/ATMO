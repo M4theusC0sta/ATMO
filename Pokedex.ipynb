{
  "nbformat": 4,
  "nbformat_minor": 0,
  "metadata": {
    "colab": {
      "provenance": []
    },
    "kernelspec": {
      "name": "python3",
      "display_name": "Python 3"
    },
    "language_info": {
      "name": "python"
    }
  },
  "cells": [
    {
      "cell_type": "code",
      "source": [
        "pip install requests"
      ],
      "metadata": {
        "colab": {
          "base_uri": "https://localhost:8080/"
        },
        "id": "xXFRcSKuKdMj",
        "outputId": "3e2a9249-f511-478d-84e1-e0f7a24da0ca"
      },
      "execution_count": 5,
      "outputs": [
        {
          "output_type": "stream",
          "name": "stdout",
          "text": [
            "Looking in indexes: https://pypi.org/simple, https://us-python.pkg.dev/colab-wheels/public/simple/\n",
            "Requirement already satisfied: requests in /usr/local/lib/python3.7/dist-packages (2.23.0)\n",
            "Requirement already satisfied: idna<3,>=2.5 in /usr/local/lib/python3.7/dist-packages (from requests) (2.10)\n",
            "Requirement already satisfied: urllib3!=1.25.0,!=1.25.1,<1.26,>=1.21.1 in /usr/local/lib/python3.7/dist-packages (from requests) (1.24.3)\n",
            "Requirement already satisfied: certifi>=2017.4.17 in /usr/local/lib/python3.7/dist-packages (from requests) (2022.9.24)\n",
            "Requirement already satisfied: chardet<4,>=3.0.2 in /usr/local/lib/python3.7/dist-packages (from requests) (3.0.4)\n"
          ]
        }
      ]
    },
    {
      "cell_type": "code",
      "source": [
        "pip install pandas"
      ],
      "metadata": {
        "colab": {
          "base_uri": "https://localhost:8080/"
        },
        "id": "j5VBenJWKpg9",
        "outputId": "6f729b48-bc11-4ef5-8ce7-360d8b1e1e71"
      },
      "execution_count": 6,
      "outputs": [
        {
          "output_type": "stream",
          "name": "stdout",
          "text": [
            "Looking in indexes: https://pypi.org/simple, https://us-python.pkg.dev/colab-wheels/public/simple/\n",
            "Requirement already satisfied: pandas in /usr/local/lib/python3.7/dist-packages (1.3.5)\n",
            "Requirement already satisfied: python-dateutil>=2.7.3 in /usr/local/lib/python3.7/dist-packages (from pandas) (2.8.2)\n",
            "Requirement already satisfied: numpy>=1.17.3 in /usr/local/lib/python3.7/dist-packages (from pandas) (1.21.6)\n",
            "Requirement already satisfied: pytz>=2017.3 in /usr/local/lib/python3.7/dist-packages (from pandas) (2022.6)\n",
            "Requirement already satisfied: six>=1.5 in /usr/local/lib/python3.7/dist-packages (from python-dateutil>=2.7.3->pandas) (1.15.0)\n"
          ]
        }
      ]
    },
    {
      "cell_type": "code",
      "execution_count": 7,
      "metadata": {
        "id": "Ixd7RAnKKE6w"
      },
      "outputs": [],
      "source": [
        "import requests\n",
        "import pandas as pd\n",
        "import json"
      ]
    },
    {
      "cell_type": "code",
      "source": [
        "class Pokemon():\n",
        "    base_url = \"https://pokeapi.co/api/v2/pokemon/?offset=0&limit=150/\"\n",
        "    nat_url = \"https://pokeapi.co/api/v2/nature\"\n",
        "    pokedex = {\n",
        "        'nome': [],\n",
        "        'habilidade': [],\n",
        "        'local': [],\n",
        "        'tipo': [],\n",
        "        'hp':[],\n",
        "        'ataque': [],\n",
        "        'defesa': []\n",
        "        }\n",
        "    \n",
        "    def get_pokemons(self):\n",
        "        response = requests.request(\"GET\", self.base_url)\n",
        "        cont = 1\n",
        "        attack = None\n",
        "        if response:\n",
        "            response = response.json()\n",
        "            for poke in response['results']:\n",
        "                self.pokedex['nome'].append(poke['name'])\n",
        "                response_detail = requests.request(\"GET\", poke['url'])\n",
        "                self.pokedex['habilidade'].append(response_detail.json()['abilities'][0]['ability']['name'])\n",
        "                location = requests.request(\"GET\", response_detail.json()['location_area_encounters'])\n",
        "                try:\n",
        "                  self.pokedex['local'].append(location.json()[0]['location_area']['name'])\n",
        "                except:\n",
        "                   self.pokedex['local'].append(\"Não Informado\")\n",
        "                self.pokedex['tipo'].append(response_detail.json()['types'][0]['type']['name'])\n",
        "                nature = requests.request(\"GET\",f\"{self.nat_url}/{cont}\")\n",
        "                cont+= 1\n",
        "                try:\n",
        "                  self.pokedex['hp'].append(nature.json()['move_battle_style_preferences'][0]['high_hp_preference'])\n",
        "                except:\n",
        "                  self.pokedex['hp'].append(\"Não Informado\")\n",
        "                try:\n",
        "                  attack = requests.request(\"GET\",nature.json()['decreased_stat']['url'])\n",
        "                  if attack:\n",
        "                    self.pokedex['ataque'].append(attack.json()['affecting_moves']['decrease'][0]['move']['name'])\n",
        "                    self.pokedex['defesa'].append(attack.json()['affecting moves']['increase'][0]['move']['name'])\n",
        "                except:\n",
        "                  self.pokedex['ataque'].append(\"Não Informado\")\n",
        "                  self.pokedex['defesa'].append(\"Não Informado\")\n",
        "\n",
        "                \n",
        "            # print(attack.json()['affecting_moves'])\n",
        "            return self.pokedex"
      ],
      "metadata": {
        "id": "jXoJSns2KHuu"
      },
      "execution_count": 8,
      "outputs": []
    },
    {
      "cell_type": "code",
      "source": [
        "x = Pokemon().get_pokemons()"
      ],
      "metadata": {
        "id": "0qfSlwv3KMIG"
      },
      "execution_count": 9,
      "outputs": []
    },
    {
      "cell_type": "code",
      "source": [
        "new_data = pd.DataFrame.from_dict(x['nome'])\n",
        "new_data['Habilidade'] = pd.DataFrame.from_dict(x['habilidade'])\n",
        "new_data['Local'] = pd.DataFrame.from_dict(x['local'])\n",
        "new_data['Tipo'] = pd.DataFrame.from_dict(x['tipo'])\n",
        "new_data['HP'] = pd.DataFrame.from_dict(x['hp'])\n",
        "new_data['Ataque'] = pd.DataFrame.from_dict(x['ataque'])\n",
        "new_data['Defesa'] = pd.DataFrame.from_dict(x['defesa'])"
      ],
      "metadata": {
        "id": "RY7Jm3ZPKMgK"
      },
      "execution_count": 24,
      "outputs": []
    },
    {
      "cell_type": "code",
      "source": [
        "new_data = new_data.rename(columns={0:\"Nome\"})"
      ],
      "metadata": {
        "id": "kuH4WAknOLt9"
      },
      "execution_count": 31,
      "outputs": []
    },
    {
      "cell_type": "code",
      "source": [
        "new_data.to_excel(\"pokedex.xlsx\",index=False)"
      ],
      "metadata": {
        "id": "pr6KoCrVKRBF"
      },
      "execution_count": 35,
      "outputs": []
    }
  ]
}